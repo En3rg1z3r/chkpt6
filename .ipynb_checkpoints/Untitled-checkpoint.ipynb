{
 "cells": [
  {
   "cell_type": "code",
   "execution_count": 133,
   "id": "racial-source",
   "metadata": {},
   "outputs": [],
   "source": [
    "import csv\n",
    "import random\n",
    "import numpy as np\n",
    "import math\n",
    "import matplotlib.pyplot as plt"
   ]
  },
  {
   "cell_type": "code",
   "execution_count": null,
   "id": "structured-cambridge",
   "metadata": {},
   "outputs": [],
   "source": []
  },
  {
   "cell_type": "code",
   "execution_count": 121,
   "id": "placed-swing",
   "metadata": {},
   "outputs": [
    {
     "name": "stdout",
     "output_type": "stream",
     "text": [
      "Train: 99\n",
      "Test: 51\n"
     ]
    }
   ],
   "source": [
    "import csv\n",
    "import random\n",
    "\n",
    "def loadDataset(filename, split):\n",
    "    \n",
    "\n",
    "\n",
    "    trainingSet=[]\n",
    "    testSet=[]\n",
    "    with open(filename, 'r') as csvfile:\n",
    "\n",
    "        lines = csv.reader(csvfile)\n",
    "\n",
    "        dataset = list(lines)\n",
    "    \n",
    "    random.seed(0)    \n",
    "    random.shuffle(dataset)\n",
    "    for x in range(len(dataset)):\n",
    "        for y in range(4):\n",
    "            dataset[x][y] = float(dataset[x][y])\n",
    "              \n",
    "\n",
    "    idx = int(len(dataset)*split)\n",
    "    trainingSet=dataset[:idx]\n",
    "    testSet=dataset[idx:]  \n",
    "    return trainingSet , testSet\n",
    "\n",
    "trainingSet , testSet= loadDataset('iris.data.txt', 0.66)\n",
    "\n",
    "print ('Train: ' + repr(len(trainingSet)))\n",
    "\n",
    "print ('Test: ' + repr(len(testSet)) )"
   ]
  },
  {
   "cell_type": "code",
   "execution_count": 120,
   "id": "valid-associate",
   "metadata": {},
   "outputs": [],
   "source": [
    "import math\n",
    "def euclideanDistance(instance1, instance2, length):\n",
    "    difference_squared = 0\n",
    "    for x in range(length):\n",
    "        difference_squared += pow((instance1[x] - instance2[x]), 2)\n",
    "    return math.sqrt(difference_squared)\n",
    "\n",
    "\n",
    "def manhattanDistance(instance1, instance2, length):\n",
    "    #   Complete the function\n",
    "    distance = 0\n",
    "    for i in range(length):\n",
    "        distance += abs(instance2[i]-instance1[i])\n",
    "\n",
    "    return distance\n",
    "\n",
    "\n",
    "\n",
    "def minkowskiDistance(instance1, instance2, length,degree=2):\n",
    "    difference_squared = 0\n",
    "    for x in range(length):\n",
    "        difference_squared += pow((instance1[x] - instance2[x]), degree)\n",
    "    return pow(difference_squared,1/degree)"
   ]
  },
  {
   "cell_type": "code",
   "execution_count": 123,
   "id": "placed-support",
   "metadata": {},
   "outputs": [],
   "source": [
    "import operator\n",
    "\n",
    "def getNeighbors(trainingSet, testInstance, k,distance_metric=None):\n",
    "   \n",
    "    distances = []\n",
    "    length = len(testInstance)-1\n",
    "    for x in range(len(trainingSet)):\n",
    "        dist = distance_metric(testInstance, trainingSet[x], length)\n",
    "        distances.append((trainingSet[x], dist))\n",
    "      \n",
    "    distances.sort(key=operator.itemgetter(1))\n",
    "        #print('distances sorted',distances)\n",
    "    neighbors = []\n",
    "    for x in range(k):\n",
    "        neighbors.append(distances[x][0])\n",
    "    return neighbors\n"
   ]
  },
  {
   "cell_type": "code",
   "execution_count": 110,
   "id": "rolled-thesis",
   "metadata": {},
   "outputs": [
    {
     "name": "stdout",
     "output_type": "stream",
     "text": [
      "100.0\n"
     ]
    }
   ],
   "source": [
    "def getAccuracy(testSet, predictions):\n",
    "    response = getResponse(testSet)\n",
    "    correct = sum([predictions[i]==response for i in range(len(predictions))])         \n",
    "    return (correct/float(len(testSet))) * 100.0\n",
    "\n",
    "testSet = [[1,1,1,'a'], [2,2,2,'a'], [3,3,3,'b']]\n",
    "\n",
    "predictions = ['a', 'a', 'a']\n",
    "\n",
    "accuracy = getAccuracy(testSet, predictions)\n",
    "\n",
    "print(accuracy)"
   ]
  },
  {
   "cell_type": "code",
   "execution_count": 125,
   "id": "adolescent-dominant",
   "metadata": {},
   "outputs": [
    {
     "name": "stdout",
     "output_type": "stream",
     "text": [
      "a\n"
     ]
    }
   ],
   "source": [
    "\n",
    "def getResponse(neighbors):\n",
    "    classVotes = {}\n",
    "\n",
    "    for x in range(len(neighbors)):\n",
    "        response = neighbors[x][-1]\n",
    "        \n",
    "        classVotes.setdefault(response,0)\n",
    "        if response in classVotes.keys():\n",
    "            classVotes[response] +=1\n",
    "\n",
    "    sortedVotes = sorted(classVotes.items(), key=operator.itemgetter(1), reverse=True)\n",
    "    return sortedVotes[0][0]\n",
    "\n",
    "\n",
    "neighbors = [[1,1,1,'a'], [2,2,2,'a'], [3,3,3,'b']]\n",
    "\n",
    "response = getResponse(neighbors)\n",
    "print(response)"
   ]
  },
  {
   "cell_type": "code",
   "execution_count": 128,
   "id": "religious-finish",
   "metadata": {},
   "outputs": [
    {
     "name": "stdout",
     "output_type": "stream",
     "text": [
      "66.66666666666666\n"
     ]
    }
   ],
   "source": [
    "def getAccuracy(testSet, predictions):\n",
    "    \n",
    "    correct = 0\n",
    "    for x in range(len(testSet)):\n",
    "        if testSet[x][-1] == predictions[x]:\n",
    "            correct +=1\n",
    "   \n",
    "    return (correct/len(testSet)) * 100.0\n",
    "\n",
    "testSet = [[1,1,1,'a'], [2,2,2,'a'], [3,3,3,'b']]\n",
    "predictions = ['a', 'a', 'a']\n",
    "\n",
    "accuracy = getAccuracy(testSet, predictions)\n",
    "print(accuracy)"
   ]
  },
  {
   "cell_type": "code",
   "execution_count": 129,
   "id": "historic-windows",
   "metadata": {},
   "outputs": [],
   "source": [
    "def main(dataset_filename, k, split, distanceFunc):\n",
    "    \n",
    "    trainingSet, testSet=loadDataset(dataset_filename, split)\n",
    "    \n",
    "    predictions = []\n",
    "    for testInstance in testSet:\n",
    "        neighbors = getNeighbors(trainingSet, testInstance[:-1], k, distanceFunc)\n",
    "        response = getResponse(neighbors)\n",
    "        predictions.append(response)\n",
    "        \n",
    "    accuracy = getAccuracy(testSet, predictions)\n",
    "    print(\"Accuracy = %.2f\" % accuracy)\n",
    "    return accuracy"
   ]
  },
  {
   "cell_type": "code",
   "execution_count": 131,
   "id": "anonymous-travel",
   "metadata": {},
   "outputs": [
    {
     "name": "stdout",
     "output_type": "stream",
     "text": [
      "Accuracy = 90.20\n",
      "Accuracy = 90.20\n",
      "Accuracy = 90.20\n",
      "Accuracy = 90.20\n",
      "Accuracy = 92.16\n",
      "Accuracy = 94.12\n",
      "Accuracy = 96.08\n",
      "Accuracy = 94.12\n",
      "Accuracy = 96.08\n",
      "Accuracy = 94.12\n",
      "Accuracy = 98.04\n",
      "Accuracy = 94.12\n",
      "Accuracy = 94.12\n",
      "Accuracy = 94.12\n",
      "Accuracy = 94.12\n",
      "Accuracy = 94.12\n",
      "Accuracy = 94.12\n",
      "Accuracy = 94.12\n",
      "Accuracy = 94.12\n",
      "Accuracy = 94.12\n",
      "Accuracy = 94.12\n",
      "Accuracy = 94.12\n",
      "Accuracy = 94.12\n",
      "Accuracy = 94.12\n"
     ]
    }
   ],
   "source": [
    "scores=[]\n",
    "for k in range(1,25):\n",
    "    \n",
    "    accuracy=main(\"iris.data.txt\", k, 0.66, euclideanDistance)\n",
    "    scores.append(accuracy)"
   ]
  },
  {
   "cell_type": "code",
   "execution_count": 134,
   "id": "boring-occurrence",
   "metadata": {},
   "outputs": [
    {
     "data": {
      "text/plain": [
       "[<matplotlib.lines.Line2D at 0x7f0fedf800d0>]"
      ]
     },
     "execution_count": 134,
     "metadata": {},
     "output_type": "execute_result"
    },
    {
     "data": {
      "image/png": "[encoded data removed]",
      "text/plain": [
       "<Figure size 432x288 with 1 Axes>"
      ]
     },
     "metadata": {
      "needs_background": "light"
     },
     "output_type": "display_data"
    }
   ],
   "source": [
    "plt.plot(range(1,25),scores)"
   ]
  },
  {
   "cell_type": "code",
   "execution_count": 135,
   "id": "numerical-chance",
   "metadata": {},
   "outputs": [],
   "source": [
    "#best k is the max of scores array"
   ]
  },
  {
   "cell_type": "code",
   "execution_count": null,
   "id": "greenhouse-sacramento",
   "metadata": {},
   "outputs": [],
   "source": []
  }
 ],
 "metadata": {
  "kernelspec": {
   "display_name": "Python 3",
   "language": "python",
   "name": "python3"
  },
  "language_info": {
   "codemirror_mode": {
    "name": "ipython",
    "version": 3
   },
   "file_extension": ".py",
   "mimetype": "text/x-python",
   "name": "python",
   "nbconvert_exporter": "python",
   "pygments_lexer": "ipython3",
   "version": "3.9.5"
  }
 },
 "nbformat": 4,
 "nbformat_minor": 5
}
